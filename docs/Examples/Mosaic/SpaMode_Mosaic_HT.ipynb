{
 "cells": [
  {
   "cell_type": "markdown",
   "id": "6e002deb",
   "metadata": {},
   "source": [
    "# Mosaic Integration (HT)"
   ]
  },
  {
   "cell_type": "markdown",
   "id": "062d4977",
   "metadata": {},
   "source": [
    "config"
   ]
  },
  {
   "cell_type": "code",
   "execution_count": null,
   "id": "80203e89",
   "metadata": {},
   "outputs": [],
   "source": [
    "import os\n",
    "import torch\n",
    "import pandas as pd\n",
    "import scanpy as sc\n",
    "import numpy as np\n",
    "import SpaMode\n",
    "import copy\n",
    "import scipy\n",
    "import anndata as ad\n",
    "import argparse\n",
    "\n",
    "from typing import Optional\n",
    "from scanpy.pp import combat\n",
    "from SpaMode.preprocess import clr_normalize_each_cell, pca, lsi\n",
    "from SpaMode.preprocess import construct_neighbor_graph\n",
    "from SpaMode.utils import clustering, peak_sets_alignment, gene_sets_alignment\n",
    "from cal_matrics import eval\n",
    "from SME.Svae import Train_Smoe\n",
    "from scipy.sparse import coo_matrix\n",
    "from sklearn.neighbors import kneighbors_graph\n",
    "from scipy.sparse import csr_matrix\n",
    "\n",
    "import torch.nn.functional as F\n",
    "from sklearn.neighbors import NearestNeighbors\n",
    "from sklearn.decomposition import PCA\n",
    "from scipy.sparse import csr_matrix\n",
    "from scipy.sparse.csgraph import laplacian\n",
    "from scipy.spatial import procrustes\n",
    "from sklearn.metrics.pairwise import cosine_similarity\n",
    "\n",
    "import scipy.sparse as sps\n",
    "from sklearn.metrics import adjusted_rand_score, roc_auc_score, f1_score"
   ]
  },
  {
   "cell_type": "markdown",
   "id": "7b574e73",
   "metadata": {},
   "source": [
    "Data Process"
   ]
  },
  {
   "cell_type": "code",
   "execution_count": null,
   "id": "24f077b6",
   "metadata": {},
   "outputs": [],
   "source": [
    "# Environment configuration. SpatialGlue pacakge can be implemented with either CPU or GPU. GPU acceleration is highly recommend for imporoved efficiency.\n",
    "device = torch.device('cuda:0' if torch.cuda.is_available() else 'cpu')\n",
    "\n",
    "def binarize(Xs, bin_thr=0):\n",
    "    rs = []\n",
    "    for X in Xs:\n",
    "        X = copy.deepcopy(X.A) if sps.issparse(X) else copy.deepcopy(X)\n",
    "        X = np.where(X>bin_thr, 1, 0)\n",
    "        rs.append(X)\n",
    "    return rs\n",
    "\n",
    "def eval_AUC_all(gt_X, pr_X, bin_thr=1):\n",
    "    gt_X = binarize([gt_X], bin_thr)[0].flatten()\n",
    "    pr_X = pr_X.flatten()\n",
    "    auroc = roc_auc_score(gt_X, pr_X)\n",
    "    return auroc\n",
    "\n",
    "def PCCs(gt_X, pr_X):\n",
    "    def _compute_pcc(x, y, axis):\n",
    "        x_centered = x - x.mean(axis=axis, keepdims=True)\n",
    "        y_centered = y - y.mean(axis=axis, keepdims=True)\n",
    "        cov = (x_centered * y_centered).sum(axis=axis)\n",
    "        std_x = np.sqrt((x_centered  **  2).sum(axis=axis))\n",
    "        std_y = np.sqrt((y_centered  **  2).sum(axis=axis))\n",
    "        denom = std_x * std_y\n",
    "        denom[denom == 0] = np.nan\n",
    "        return cov / denom\n",
    "\n",
    "    if sps.issparse(gt_X):\n",
    "        gt_X = gt_X.A  \n",
    "    if sps.issparse(pr_X):\n",
    "        pr_X = pr_X.A\n",
    "\n",
    "    pcc_cell = _compute_pcc(gt_X, pr_X, axis=1)\n",
    "\n",
    "    return pcc_cell, 0\n",
    "\n",
    "\n",
    "def CMD(pr_X, gt_X):\n",
    "    zero_mask = (~pr_X.any(axis=1)) | (~gt_X.any(axis=1))\n",
    "    rm_p = zero_mask.mean()\n",
    "    if rm_p >= 0.05:\n",
    "        print(f'Warning: too many rows ({rm_p * 100:.1f}%) with all zeros')\n",
    "\n",
    "    pr_array = pr_X[~zero_mask].astype(np.float32)\n",
    "    gt_array = gt_X[~zero_mask].astype(np.float32)\n",
    "\n",
    "    def fast_corr(X):\n",
    "        X_centered = X - X.mean(axis=1, keepdims=True)\n",
    "        cov = X_centered @ X_centered.T\n",
    "        std = np.sqrt(np.sum(X_centered ** 2, axis = 1, keepdims = True))\n",
    "        std[std == 0] = 1  \n",
    "        return cov / (std @ std.T)\n",
    "\n",
    "    corr_pr = fast_corr(pr_array)\n",
    "    corr_gt = fast_corr(gt_array)\n",
    "\n",
    "    x = np.sum(corr_pr * corr_gt.T)  \n",
    "    y = np.sqrt(np.sum(corr_pr ** 2)) *np.sqrt(np.sum(corr_gt ** 2))\n",
    "\n",
    "    cmd = 1 - x / (y + 1e-8)\n",
    "    return cmd\n",
    "\n",
    "def reconstruct_missing_modality(existing_m1_emb, ref_m1_emb, existing_m2, A1, A2, recon_s2_m2=None, imput_pca=False):\n",
    "\n",
    "    existing_m1_emb = aggregate_neighborhood_features(existing_m1_emb, A1)\n",
    "    ref_m1_emb = aggregate_neighborhood_features(ref_m1_emb, A2)\n",
    "\n",
    "    if imput_pca:\n",
    "\n",
    "        nn = NearestNeighbors(n_neighbors=1, algorithm='brute', metric='euclidean')\n",
    "        nn.fit(existing_m1_emb)\n",
    "\n",
    "        _, indices = nn.kneighbors(ref_m1_emb)\n",
    "        indices = indices.ravel()\n",
    "\n",
    "        imput_m2 = existing_m2[indices]\n",
    "\n",
    "        imput_m1 = existing_m1_emb[indices]\n",
    "\n",
    "        erro = torch.tensor(1 - cosine_similarity(imput_m1, ref_m1_emb)).cuda()\n",
    "        erro = erro.unsqueeze(1)\n",
    "        imput_m2 = torch.tensor(imput_m2).cuda()\n",
    "        recon_s2_m2 = torch.tensor(recon_s2_m2).cuda()\n",
    "        imput = F.normalize(((1 - erro) * imput_m2 + erro * recon_s2_m2), p=2, eps=1e-12, dim=1)\n",
    "\n",
    "    else:\n",
    "        K = 25  \n",
    "\n",
    "        nn = NearestNeighbors(n_neighbors=K, algorithm='brute', metric='euclidean')\n",
    "        nn.fit(existing_m1_emb)\n",
    "\n",
    "        _, indices = nn.kneighbors(ref_m1_emb) \n",
    "\n",
    "        if sps.issparse(existing_m2):\n",
    "            indices_flat = indices.ravel()  \n",
    "            imput_m2 = existing_m2[indices_flat, :].toarray()  \n",
    "            imput_m2 = imput_m2.reshape(-1, K, imput_m2.shape[1])  \n",
    "        else:\n",
    "            imput_m2 = existing_m2[indices]\n",
    "\n",
    "        imput_m2 = np.mean(imput_m2, axis=1)  \n",
    "\n",
    "        imput = imput_m2\n",
    "\n",
    "    return imput, existing_m1_emb, ref_m1_emb\n",
    "\n",
    "\n",
    "def cosine_similarity(a, b):\n",
    "    # a, b: shape [..., D]\n",
    "    a_norm = a / np.linalg.norm(a, axis=-1, keepdims=True)\n",
    "    b_norm = b / np.linalg.norm(b, axis=-1, keepdims=True)\n",
    "    return np.sum(a_norm * b_norm, axis=-1)  \n",
    "\n",
    "\n",
    "def aggregate_neighborhood_features(R, A, aggregation='mean'):\n",
    "\n",
    "    N = R.shape[0]\n",
    "    R_agg = []\n",
    "    A_sparse = csr_matrix(A.detach().cpu().numpy())  \n",
    "\n",
    "    for i in range(N):\n",
    "        neighbors = A_sparse[i].indices\n",
    "        if aggregation == 'mean':\n",
    "            feat = R[neighbors].mean(axis=0)\n",
    "        elif aggregation == 'sum':\n",
    "            feat = R[neighbors].sum(axis=0)\n",
    "        elif aggregation == 'concat':\n",
    "            feat = R[neighbors].flatten()  \n",
    "            feat = feat[:30]  \n",
    "        R_agg.append(feat)\n",
    "\n",
    "    return np.array(R_agg)\n",
    "\n",
    "\n",
    "def data_preprocessing(adata_omics1, adata_omics2):\n",
    "\n",
    "    adata_omics1.var_names_make_unique()\n",
    "    adata_omics2.var_names_make_unique()\n",
    "\n",
    "    # RNA\n",
    "    sc.pp.highly_variable_genes(adata_omics1, flavor=\"seurat_v3\", n_top_genes=3000)\n",
    "    sc.pp.normalize_total(adata_omics1, target_sum=1e4)\n",
    "    sc.pp.log1p(adata_omics1)\n",
    "    sc.pp.scale(adata_omics1, max_value=100)\n",
    "\n",
    "    adata_omics1_high = adata_omics1[:, adata_omics1.var['highly_variable']]\n",
    "    adata_omics1.obsm['feat'] = pca(adata_omics1_high, n_comps=30)\n",
    "\n",
    "    # Protein\n",
    "    adata_omics2 = clr_normalize_each_cell(adata_omics2)\n",
    "    sc.pp.scale(adata_omics2)\n",
    "    adata_omics2.obsm['feat'] = pca(adata_omics2, n_comps=30)\n",
    "\n",
    "    print(adata_omics1)\n",
    "    print(adata_omics2)\n",
    "\n",
    "    return adata_omics1, adata_omics2\n",
    "\n",
    "\n",
    "\n",
    "\n"
   ]
  },
  {
   "cell_type": "markdown",
   "id": "8a645588",
   "metadata": {},
   "source": [
    "Mosaic Integration"
   ]
  },
  {
   "cell_type": "code",
   "execution_count": null,
   "id": "c6497f91",
   "metadata": {},
   "outputs": [
    {
     "name": "stdout",
     "output_type": "stream",
     "text": [
      "AnnData object with n_obs × n_vars = 4326 × 18085\n",
      "    obs: 'lab', 'lab_lynn', 'src', 'final_annot'\n",
      "    var: 'gene_ids', 'feature_types', 'genome', 'highly_variable', 'highly_variable_rank', 'means', 'variances', 'variances_norm', 'mean', 'std'\n",
      "    uns: 'hvg', 'log1p'\n",
      "    obsm: 'spatial', 'feat'\n",
      "AnnData object with n_obs × n_vars = 4326 × 31\n",
      "    obs: 'lab', 'lab_lynn', 'src', 'final_annot'\n",
      "    var: 'gene_ids', 'feature_types', 'genome', 'mean', 'std'\n",
      "    obsm: 'spatial', 'feat'\n",
      "Spatial_neighbors = 3\n",
      "Feature_neighbors = 20\n"
     ]
    },
    {
     "name": "stderr",
     "output_type": "stream",
     "text": [
      "/root/autodl-tmp/SpaMode_0903/SME/Svae_0318.py:104: UserWarning: Implicit dimension choice for softmax has been deprecated. Change the call to include dim=X as an argument.\n",
      "  weight = F.softmax(differ_stack)\n"
     ]
    },
    {
     "name": "stdout",
     "output_type": "stream",
     "text": [
      "tensor([0.8057, 0.5797], device='cuda:0') tensor([0.5563, 0.4437], device='cuda:0')\n",
      "optimizer:  SGD\n"
     ]
    },
    {
     "name": "stderr",
     "output_type": "stream",
     "text": [
      " 51%|█████     | 509/1000 [01:55<01:51,  4.41it/s, Biloss=0.191, adv_loss=0.271, kl_loss=0.897, moe_loss=0.0202, recon=18.6]  \n"
     ]
    },
    {
     "name": "stdout",
     "output_type": "stream",
     "text": [
      "Early Stop\n",
      "Model training finished!\n",
      "\n",
      "AnnData object with n_obs × n_vars = 4519 × 18085\n",
      "    obs: 'lab', 'src', 'final_annot'\n",
      "    var: 'gene_ids', 'feature_types', 'genome', 'highly_variable', 'highly_variable_rank', 'means', 'variances', 'variances_norm', 'mean', 'std'\n",
      "    uns: 'hvg', 'log1p'\n",
      "    obsm: 'spatial', 'feat'\n",
      "AnnData object with n_obs × n_vars = 4519 × 31\n",
      "    obs: 'lab', 'src', 'final_annot'\n",
      "    var: 'gene_ids', 'feature_types', 'genome', 'mean', 'std'\n",
      "    obsm: 'spatial', 'feat'\n",
      "Spatial_neighbors = 3\n",
      "Feature_neighbors = 20\n"
     ]
    },
    {
     "name": "stderr",
     "output_type": "stream",
     "text": [
      "/root/autodl-tmp/SpaMode_0903/SME/Svae_0318.py:296: UserWarning: Implicit dimension choice for softmax has been deprecated. Change the call to include dim=X as an argument.\n",
      "  weight = F.softmax(differ_stack)\n"
     ]
    },
    {
     "name": "stdout",
     "output_type": "stream",
     "text": [
      "tensor([1.0000, 1.0000], device='cuda:0') tensor([0.5000, 0.5000], device='cuda:0')\n",
      "torch.Size([4519, 4519, 64]) torch.Size([4519, 4519, 64])\n"
     ]
    },
    {
     "name": "stderr",
     "output_type": "stream",
     "text": [
      "/tmp/ipykernel_7187/2397127696.py:84: UserWarning: To copy construct from a tensor, it is recommended to use sourceTensor.clone().detach() or sourceTensor.clone().detach().requires_grad_(True), rather than torch.tensor(sourceTensor).\n",
      "  recon_s2_m2 = torch.tensor(recon_s2_m2).cuda()\n"
     ]
    },
    {
     "name": "stdout",
     "output_type": "stream",
     "text": [
      "Spatial_neighbors = 3\n",
      "Feature_neighbors = 20\n"
     ]
    },
    {
     "name": "stderr",
     "output_type": "stream",
     "text": [
      "/root/autodl-tmp/SpaMode_0903/SME/Svae_0318.py:104: UserWarning: Implicit dimension choice for softmax has been deprecated. Change the call to include dim=X as an argument.\n",
      "  weight = F.softmax(differ_stack)\n"
     ]
    },
    {
     "name": "stdout",
     "output_type": "stream",
     "text": [
      "tensor([0.7120, 0.8796], device='cuda:0') tensor([0.4582, 0.5418], device='cuda:0')\n",
      "optimizer:  SGD\n"
     ]
    },
    {
     "name": "stderr",
     "output_type": "stream",
     "text": [
      " 55%|█████▍    | 549/1000 [02:21<01:56,  3.87it/s, Biloss=0.166, adv_loss=0.245, kl_loss=0.864, moe_loss=0.00209, recon=12.5] "
     ]
    },
    {
     "name": "stdout",
     "output_type": "stream",
     "text": [
      "Early Stop\n",
      "Model training finished!\n",
      "\n"
     ]
    },
    {
     "name": "stderr",
     "output_type": "stream",
     "text": [
      "\n"
     ]
    }
   ],
   "source": [
    "\n",
    "\n",
    "# Fix random seed\n",
    "from SME.preprocess import fix_seed\n",
    "random_seed = 2025\n",
    "fix_seed(random_seed)\n",
    "\n",
    "file_paths = {\n",
    "    '1': ['/root/autodl-tmp/Data/Human_tonsil/slice1/s1_adata_rna.h5ad',\n",
    "              '/root/autodl-tmp/Data/Human_tonsil/slice1/s1_adata_adt.h5ad'],\n",
    "    '2': ['/root/autodl-tmp/Data/Human_tonsil/slice2/s2_adata_rna.h5ad',\n",
    "              '/root/autodl-tmp/Data/Human_tonsil/slice2/s2_adata_adt.h5ad'],\n",
    "    '3': ['/root/autodl-tmp/Data/Human_tonsil/slice3/s3_adata_rna.h5ad',\n",
    "              '/root/autodl-tmp/Data/Human_tonsil/slice3/s3_adata_adt.h5ad'],\n",
    "}\n",
    "\n",
    "GT_paths = {\n",
    "    '1': '/root/autodl-tmp/0222/Results/HT/slice-1/HT-slice-1-GT.txt',\n",
    "    '2': '/root/autodl-tmp/0222/Results/HT/slice-2/HT-slice-2-GT.txt',\n",
    "    '3': '/root/autodl-tmp/0222/Results/HT/slice-3/HT-slice-3-GT.txt',\n",
    "}\n",
    "\n",
    "adata_omics1, adata_omics2 = [sc.read_h5ad(fp) for fp in file_paths['1']]\n",
    "\n",
    "adata_omics1_cp = copy.deepcopy(adata_omics1)\n",
    "adata_omics2_cp = copy.deepcopy(adata_omics2)\n",
    "\n",
    "adata_omics1, adata_omics2 = data_preprocessing(adata_omics1, adata_omics2)\n",
    "adata = construct_neighbor_graph(adata_omics1, adata_omics2, datatype='10x')\n",
    "\n",
    "import json\n",
    "# 加载配置文件\n",
    "with open(\"/root/autodl-tmp/0222/config/cfg_training.json\", \"r\") as file:\n",
    "    config = json.load(file)\n",
    "\n",
    "from SME.SpaMode_Mosaic import Train_SpaMode\n",
    "model = Train_SpaMode(adata, datatype='10x', device=device, Arg=config[\"HT\"]['1'])\n",
    "output = model.train()\n",
    "\n",
    "adata_omics1.obsm['Smoe'] = output['Smoe']\n",
    "\n",
    "# Imputation S2_ADT\n",
    "adata_omics1_E15, adata_omics2_E15 = [sc.read_h5ad(fp) for fp in file_paths['2']]\n",
    "\n",
    "adata_omics2_E15_cp = copy.deepcopy(adata_omics2_E15)\n",
    "\n",
    "adata_omics1_E15, adata_omics2_E15 = data_preprocessing(adata_omics1_E15, adata_omics2_E15)\n",
    "adata_E15 = construct_neighbor_graph(adata_omics1_E15, adata_omics1_E15, datatype='10x')\n",
    "infer_results = model.imputation(adata_E15, 1)\n",
    "\n",
    "imput_adt_pca, adata_omics1_spatial_smooth, adata_omics1_E15_spatial_smooth = reconstruct_missing_modality(\n",
    "        adata_omics1.obsm['feat'],\n",
    "        adata_omics1_E15.obsm['feat'],\n",
    "        adata_omics2.obsm['feat'],\n",
    "        model.adj_spatial_omics1,\n",
    "        model.tmp_adj_spatial_omics1,\n",
    "        F.normalize(\n",
    "            infer_results['emb_recon_omics2'],\n",
    "            p=2, eps=1e-12, dim=1),\n",
    "        imput_pca=True\n",
    "    )\n",
    "\n",
    "adata_omics2_E15.obsm['feat'] = imput_adt_pca.detach().cpu().numpy()\n",
    "\n",
    "adata_E15_imput = construct_neighbor_graph(adata_omics1_E15, adata_omics2_E15, datatype='10x')\n",
    "model_mosaic = Train_SpaMode(adata_E15_imput, datatype='10x', device=device, Arg=config[\"HT\"]['2'])\n",
    "output = model_mosaic.train()\n",
    "adata_omics1_E15.obsm['Smoe'] = output['Smoe']\n",
    "# adata_omics1_E15.write_h5ad('/root/autodl-tmp/0222/Results/HT/Mosaic/Our/Slice_2.h5ad')\n",
    "\n",
    "\n",
    "\n",
    "\n"
   ]
  },
  {
   "cell_type": "markdown",
   "id": "fd60a6e9",
   "metadata": {},
   "source": [
    "Imputation"
   ]
  },
  {
   "cell_type": "code",
   "execution_count": 5,
   "id": "9f5803a9",
   "metadata": {},
   "outputs": [
    {
     "name": "stdout",
     "output_type": "stream",
     "text": [
      "-----------------Eval Imput ADT------------------\n",
      "PCC cell: 0.93754214\n",
      "PCC RNA: 0.0\n",
      "Command cell: 0.010368214880204674\n",
      "Command RNA: 0.22684393721285268\n",
      "-----------------Eval Imput ADT------------------\n"
     ]
    }
   ],
   "source": [
    "\n",
    "mix_omics1 = np.concatenate([adata_omics1.obsm['feat'], adata_omics2.obsm['feat']], axis=1)\n",
    "mix_omics2 = np.concatenate([adata_omics1_E15.obsm['feat'], adata_omics2_E15.obsm['feat']], axis=1)\n",
    "\n",
    "imput_adt_raw, _, _ = reconstruct_missing_modality(\n",
    "        mix_omics1,\n",
    "        mix_omics2,\n",
    "        adata_omics2_cp.X,\n",
    "        model.adj_spatial_omics1,\n",
    "        model.tmp_adj_spatial_omics1,\n",
    ")\n",
    "\n",
    "\n",
    "adata_omics2_E15_imputed = copy.deepcopy(adata_omics2_E15_cp)\n",
    "adata_omics2_E15_imputed.X = csr_matrix(imput_adt_raw)\n",
    "adata_omics2_E15_imputed.write_h5ad('/root/autodl-tmp/0222/Results/HT/Imput/HT_S2_ADT_imput_our.h5ad')\n",
    "\n",
    "print(\"-----------------Eval Imput ADT------------------\")\n",
    "\n",
    "gt_X = adata_omics2_E15_cp.X.toarray()\n",
    "pr_X = imput_adt_raw\n",
    "\n",
    "pcc_cell, pcc_adt = PCCs(gt_X, pr_X)\n",
    "\n",
    "cmd_cell = CMD(pr_X, gt_X)\n",
    "cmd_adt = CMD(pr_X.T, gt_X.T)\n",
    "\n",
    "print('PCC cell:', np.mean(pcc_cell))\n",
    "print('PCC RNA:', np.mean(pcc_adt))\n",
    "print('Command cell:', cmd_cell)\n",
    "print('Command RNA:', cmd_adt)\n",
    "\n",
    "print(\"-----------------Eval Imput ADT------------------\")"
   ]
  }
 ],
 "metadata": {
  "kernelspec": {
   "display_name": "base",
   "language": "python",
   "name": "python3"
  },
  "language_info": {
   "codemirror_mode": {
    "name": "ipython",
    "version": 3
   },
   "file_extension": ".py",
   "mimetype": "text/x-python",
   "name": "python",
   "nbconvert_exporter": "python",
   "pygments_lexer": "ipython3",
   "version": "3.8.10"
  }
 },
 "nbformat": 4,
 "nbformat_minor": 5
}
